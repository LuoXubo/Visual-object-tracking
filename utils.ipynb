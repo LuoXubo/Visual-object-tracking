{
 "cells": [
  {
   "cell_type": "code",
   "execution_count": 6,
   "metadata": {},
   "outputs": [],
   "source": [
    "\"\"\"\n",
    "@Description :   \n",
    "@Author      :   Xubo Luo \n",
    "@Time        :   2024/04/19 10:28:57\n",
    "\"\"\"\n",
    "\n",
    "import os\n",
    "import shutil\n"
   ]
  },
  {
   "cell_type": "code",
   "execution_count": 7,
   "metadata": {},
   "outputs": [],
   "source": [
    "input_path = '/Users/luoxubo/Desktop/mixformer_22k/'\n",
    "output_path = '/Users/luoxubo/Desktop/mixformer_22k_format/'\n",
    "\n",
    "file_names = os.listdir(input_path)\n",
    "# GOT-10k_Test_000001_time.txx\n",
    "# GOT-10k_Test_000001.txt\n",
    "\n",
    "file_names = [file_name for file_name in file_names if file_name.endswith('time.txt')]\n",
    "\n",
    "for file_name in file_names:\n",
    "    sequence_name = file_name.split('_time')[0]\n",
    "    save_path = os.path.join(output_path, sequence_name)\n",
    "    if not os.path.exists(save_path):\n",
    "        os.makedirs(save_path)\n",
    "    shutil.copy(os.path.join(input_path, file_name), os.path.join(save_path, file_name))\n",
    "    shutil.copy(os.path.join(input_path, sequence_name + '.txt'), os.path.join(save_path, sequence_name + '_001.txt'))"
   ]
  }
 ],
 "metadata": {
  "kernelspec": {
   "display_name": "cv",
   "language": "python",
   "name": "python3"
  },
  "language_info": {
   "codemirror_mode": {
    "name": "ipython",
    "version": 3
   },
   "file_extension": ".py",
   "mimetype": "text/x-python",
   "name": "python",
   "nbconvert_exporter": "python",
   "pygments_lexer": "ipython3",
   "version": "3.8.18"
  },
  "orig_nbformat": 4
 },
 "nbformat": 4,
 "nbformat_minor": 2
}
